{
 "cells": [
  {
   "cell_type": "code",
   "execution_count": 1,
   "id": "abb4d88b-46d7-445e-845e-254b137471c9",
   "metadata": {},
   "outputs": [
    {
     "name": "stdout",
     "output_type": "stream",
     "text": [
      "welcome to oops\n"
     ]
    }
   ],
   "source": [
    "class python:\n",
    "    def fun(self):\n",
    "        print(\"welcome to oops\")\n",
    "pyt=python()\n",
    "pyt.fun()"
   ]
  },
  {
   "cell_type": "code",
   "execution_count": 16,
   "id": "5d669a46-fde3-4fdb-a998-1ea79d5fe759",
   "metadata": {},
   "outputs": [
    {
     "name": "stdout",
     "output_type": "stream",
     "text": [
      "total car 2\n",
      "name audi id 200000\n",
      "name porshe id 1000000\n"
     ]
    }
   ],
   "source": [
    "class car:\n",
    "    'common_car'\n",
    "    car=0\n",
    "    def __init__(self,name,id):\n",
    "        self.name=name\n",
    "        self.id=id\n",
    "        car.car+=1\n",
    "\n",
    "    def printCardata(self):\n",
    "        print(\"name\",self.name,\"id\",self.id)\n",
    "c=car(\"audi\",200000)\n",
    "c2=car(\"porshe\",1000000)\n",
    "print(\"total car\",car.car)\n",
    "\n",
    "c.printCardata()\n",
    "c2.printCardata()"
   ]
  },
  {
   "cell_type": "code",
   "execution_count": 12,
   "id": "3c68f26c-23df-4294-ab76-823407998982",
   "metadata": {},
   "outputs": [
    {
     "name": "stdout",
     "output_type": "stream",
     "text": [
      "mahesh 26 200000\n"
     ]
    }
   ],
   "source": [
    "class employee:\n",
    "    def __init__(self,n,a,s):\n",
    "        self.name=n\n",
    "        self.age=a\n",
    "        self.salary=s\n",
    "    def display_data(self):\n",
    "        print(self.name,self.age,self.salary)\n",
    "e1=employee(\"mahesh\",26,200000)\n",
    "e1.display_data()"
   ]
  },
  {
   "cell_type": "code",
   "execution_count": 14,
   "id": "ea5cb0b7-5bea-49a7-870e-314b61000fc6",
   "metadata": {},
   "outputs": [
    {
     "name": "stdout",
     "output_type": "stream",
     "text": [
      "live in nest 2 0\n"
     ]
    }
   ],
   "source": [
    "class birds:\n",
    "    def __init__(self,nest,egg,s):\n",
    "        self.n=nest\n",
    "        self.e=egg\n",
    "        self.salary=s\n",
    "    def display_data(self):\n",
    "        print(self.nest,self.egg,self.s)\n",
    "e1=employee(\"live in nest\",2,0)\n",
    "e1.display_data()"
   ]
  },
  {
   "cell_type": "code",
   "execution_count": 18,
   "id": "5c9757f3-1ed4-4131-9851-cbe27885072c",
   "metadata": {},
   "outputs": [
    {
     "name": "stdout",
     "output_type": "stream",
     "text": [
      "car\n"
     ]
    }
   ],
   "source": [
    "class test:\n",
    "    def __init__(self):\n",
    "        self.v='car'\n",
    "        self.change(self.v)\n",
    "    def change(self,var):\n",
    "        var='bike'\n",
    "obj=test()\n",
    "print(obj.v)"
   ]
  },
  {
   "cell_type": "code",
   "execution_count": 3,
   "id": "33591b29-249c-406e-b9c7-441224cbfb61",
   "metadata": {},
   "outputs": [
    {
     "name": "stdout",
     "output_type": "stream",
     "text": [
      "bark\n",
      "meow\n"
     ]
    }
   ],
   "source": [
    "#overriding\n",
    "class animal:\n",
    "    def sound(self):\n",
    "        print(\"some generic siund\")\n",
    "\n",
    "class dog(animal):\n",
    "    def sound(self):\n",
    "        print(\"bark\")\n",
    "\n",
    "class cat(animal):\n",
    "    def  sound(self):\n",
    "        print(\"meow\")\n",
    "\n",
    "dog=dog()\n",
    "cat=cat()\n",
    "dog.sound()\n",
    "cat.sound()"
   ]
  },
  {
   "cell_type": "code",
   "execution_count": null,
   "id": "4566c68b-7816-4763-a209-bee1f6dd1935",
   "metadata": {},
   "outputs": [],
   "source": [
    "#overriding\n",
    "class calculate()\n",
    "    def sound(self):\n",
    "        print(\"some generic siund\")\n",
    "\n",
    "class (animal):\n",
    "    def sound(self):\n",
    "        print(\"bark\")\n",
    "\n",
    "class cat(animal):\n",
    "    def  sound(self):\n",
    "        print(\"meow\")\n",
    "\n",
    "dog=dog()\n",
    "cat=cat()\n"
   ]
  },
  {
   "cell_type": "code",
   "execution_count": 5,
   "id": "abd83ff4-ca64-48d7-acc1-8954cf0570e6",
   "metadata": {},
   "outputs": [
    {
     "name": "stdin",
     "output_type": "stream",
     "text": [
      " 4\n",
      " 3\n"
     ]
    },
    {
     "name": "stdout",
     "output_type": "stream",
     "text": [
      "addition : 7\n",
      "sub : None\n",
      "multiplication 12\n",
      "floor division: 1\n"
     ]
    }
   ],
   "source": [
    "class calculator:\n",
    "    def add(self,num1,num2):\n",
    "        self.num1=num1;\n",
    "        self.num2=num2;\n",
    "        return self.num1+self.num2\n",
    "    def sub(self,num1,num2):\n",
    "        self.num1-num2;\n",
    "        \n",
    "class advancedcalculator(calculator):\n",
    "    def mul(self,num1,num2):\n",
    "        print(\"multiplication\",num1*num2)\n",
    "    def div(self,num1,num2):\n",
    "        return num1//num2;\n",
    "\n",
    "x=advancedcalculator()\n",
    "num1=int(input())\n",
    "num2=int(input())\n",
    "print(\"addition : %d\"%(x.add(num1,num2)))\n",
    "print(\"sub :\",x.sub(num1,num2))\n",
    "x.mul(num1,num2)\n",
    "print(\"floor division: %d\"%(x.div(num1,num2)))"
   ]
  },
  {
   "cell_type": "code",
   "execution_count": 3,
   "id": "09c2e5a1-25bf-4115-9e5c-64197a92921b",
   "metadata": {},
   "outputs": [
    {
     "name": "stdout",
     "output_type": "stream",
     "text": [
      "Animal \n",
      "Bird can fly\n",
      "Parrot is green\n"
     ]
    }
   ],
   "source": [
    "class Animal:\n",
    "    def sound(self):\n",
    "        print(\"Animal \")\n",
    "\n",
    "class Bird:\n",
    "    def fly(self):\n",
    "        print(\"Bird can fly\")\n",
    "        \n",
    "class Parrot(Animal, Bird):\n",
    "    def speak(self):\n",
    "        print(\"Parrot is green\")\n",
    "parrot=Parrot()\n",
    "parrot.sound() \n",
    "parrot.fly()    \n",
    "parrot.speak()"
   ]
  },
  {
   "cell_type": "code",
   "execution_count": 4,
   "id": "c29fd414-9cf3-407e-928b-d02a3f556cb8",
   "metadata": {},
   "outputs": [
    {
     "ename": "AttributeError",
     "evalue": "'super' object has no attribute 'calculate'",
     "output_type": "error",
     "traceback": [
      "\u001b[1;31m---------------------------------------------------------------------------\u001b[0m",
      "\u001b[1;31mAttributeError\u001b[0m                            Traceback (most recent call last)",
      "Cell \u001b[1;32mIn[4], line 41\u001b[0m\n\u001b[0;32m     39\u001b[0m normal_rent \u001b[38;5;241m=\u001b[39m normal_room\u001b[38;5;241m.\u001b[39mcalculate(no_normal_rooms, days)\n\u001b[0;32m     40\u001b[0m ac_rent \u001b[38;5;241m=\u001b[39m ac_room\u001b[38;5;241m.\u001b[39mcalculate(no_ac_rooms, days)\n\u001b[1;32m---> 41\u001b[0m total_rent \u001b[38;5;241m=\u001b[39m hotel\u001b[38;5;241m.\u001b[39mcalculate_total_rent(no_normal_rooms, no_ac_rooms, days)\n\u001b[0;32m     43\u001b[0m \u001b[38;5;28mprint\u001b[39m(\u001b[38;5;124mf\u001b[39m\u001b[38;5;124m\"\u001b[39m\u001b[38;5;124mNormal rooms rent for \u001b[39m\u001b[38;5;132;01m{\u001b[39;00mno_normal_rooms\u001b[38;5;132;01m}\u001b[39;00m\u001b[38;5;124m rooms for \u001b[39m\u001b[38;5;132;01m{\u001b[39;00mdays\u001b[38;5;132;01m}\u001b[39;00m\u001b[38;5;124m days: \u001b[39m\u001b[38;5;132;01m{\u001b[39;00mnormal_rent\u001b[38;5;132;01m}\u001b[39;00m\u001b[38;5;124m\"\u001b[39m)\n\u001b[0;32m     44\u001b[0m \u001b[38;5;28mprint\u001b[39m(\u001b[38;5;124mf\u001b[39m\u001b[38;5;124m\"\u001b[39m\u001b[38;5;124mAC rooms rent for \u001b[39m\u001b[38;5;132;01m{\u001b[39;00mno_ac_rooms\u001b[38;5;132;01m}\u001b[39;00m\u001b[38;5;124m rooms for \u001b[39m\u001b[38;5;132;01m{\u001b[39;00mdays\u001b[38;5;132;01m}\u001b[39;00m\u001b[38;5;124m days: \u001b[39m\u001b[38;5;132;01m{\u001b[39;00mac_rent\u001b[38;5;132;01m}\u001b[39;00m\u001b[38;5;124m\"\u001b[39m)\n",
      "Cell \u001b[1;32mIn[4], line 28\u001b[0m, in \u001b[0;36mHotel.calculate_total_rent\u001b[1;34m(self, no_normal_rooms, no_ac_rooms, days)\u001b[0m\n\u001b[0;32m     26\u001b[0m \u001b[38;5;28;01mdef\u001b[39;00m \u001b[38;5;21mcalculate_total_rent\u001b[39m(\u001b[38;5;28mself\u001b[39m, no_normal_rooms, no_ac_rooms, days):\n\u001b[0;32m     27\u001b[0m     normal_room_rent \u001b[38;5;241m=\u001b[39m \u001b[38;5;28msuper\u001b[39m(NormalRoom, \u001b[38;5;28mself\u001b[39m)\u001b[38;5;241m.\u001b[39mcalculate(no_normal_rooms, days)\n\u001b[1;32m---> 28\u001b[0m     ac_room_rent \u001b[38;5;241m=\u001b[39m \u001b[38;5;28msuper\u001b[39m(AcRoom, \u001b[38;5;28mself\u001b[39m)\u001b[38;5;241m.\u001b[39mcalculate(no_ac_rooms, days)\n\u001b[0;32m     29\u001b[0m     \u001b[38;5;28;01mreturn\u001b[39;00m normal_room_rent \u001b[38;5;241m+\u001b[39m ac_room_rent\n",
      "\u001b[1;31mAttributeError\u001b[0m: 'super' object has no attribute 'calculate'"
     ]
    }
   ],
   "source": [
    "class NormalRoom:\n",
    "    def calculate(self, no_rooms, days):\n",
    "        if days == 1:\n",
    "            rent_per_room_per_day = 300\n",
    "        elif days <= 5:\n",
    "            rent_per_room_per_day = 250\n",
    "        else:\n",
    "            rent_per_room_per_day = 200\n",
    "        \n",
    "        total_rent = no_rooms * days * rent_per_room_per_day\n",
    "        return total_rent\n",
    "\n",
    "class AcRoom:\n",
    "    def calculate(self, no_rooms, days):\n",
    "        if days == 1:\n",
    "            rent_per_room_per_day = 500\n",
    "        elif days <= 5:\n",
    "            rent_per_room_per_day = 450\n",
    "        else:\n",
    "            rent_per_room_per_day = 400\n",
    "        \n",
    "        total_rent = no_rooms * days * rent_per_room_per_day\n",
    "        return total_rent\n",
    "\n",
    "class Hotel(NormalRoom, AcRoom):\n",
    "    def calculate_total_rent(self, no_normal_rooms, no_ac_rooms, days):\n",
    "        normal_room_rent = super(NormalRoom, self).calculate(no_normal_rooms, days)\n",
    "        ac_room_rent = super(AcRoom, self).calculate(no_ac_rooms, days)\n",
    "        return normal_room_rent + ac_room_rent\n",
    "\n",
    "no_normal_rooms = 2\n",
    "no_ac_rooms = 1\n",
    "days = 3\n",
    "\n",
    "normal_room = NormalRoom()\n",
    "ac_room = AcRoom()\n",
    "hotel = Hotel()\n",
    "\n",
    "normal_rent = normal_room.calculate(no_normal_rooms, days)\n",
    "ac_rent = ac_room.calculate(no_ac_rooms, days)\n",
    "total_rent = hotel.calculate_total_rent(no_normal_rooms, no_ac_rooms, days)\n",
    "\n",
    "print(f\"Normal rooms rent for {no_normal_rooms} rooms for {days} days: {normal_rent}\")\n",
    "print(f\"AC rooms rent for {no_ac_rooms} rooms for {days} days: {ac_rent}\")\n",
    "print(f\"Total rent for the hotel: {total_rent}\")\n"
   ]
  },
  {
   "cell_type": "code",
   "execution_count": 21,
   "id": "f4ca93a6-4d93-4459-b6fa-9849db2854ae",
   "metadata": {},
   "outputs": [
    {
     "name": "stdout",
     "output_type": "stream",
     "text": [
      "the name of the person\n",
      "the id is  <built-in function id>\n",
      "the salary earned is\n",
      "Salary earned is 30300\n"
     ]
    }
   ],
   "source": [
    "class Person:\n",
    "    def __init__(self, name):\n",
    "        self.name = name\n",
    "\n",
    "    def display(self):\n",
    "        print(\"the name of the person\")\n",
    "\n",
    "class staff(Person):\n",
    "    def __init__(self,id,name):\n",
    "        self.name = name\n",
    "        self.id =id\n",
    "\n",
    "    def display(self):\n",
    "        print(\"the id is \",id)\n",
    "\n",
    "class tempstaff(staff):\n",
    "    def __init__(self,name,hours,id):\n",
    "        self.hours=hours\n",
    "        self.id=id\n",
    "\n",
    "    def display(self):\n",
    "        print(\"the salary earned is\")\n",
    "\n",
    "\n",
    "    def salary(self):\n",
    "        salary_earned = self.hours * 150\n",
    "        return salary_earned\n",
    "\n",
    "person = Person(\"Alice\")\n",
    "person.display()\n",
    "\n",
    "staff = staff(\"Bob\", 101)\n",
    "staff.display()\n",
    "\n",
    "tempstaff=tempstaff(\"Charlie\", 202, 40)\n",
    "tempstaff.display()\n",
    "print(f\"Salary earned is {tempstaff.salary()}\")\n",
    "        \n",
    "    "
   ]
  },
  {
   "cell_type": "code",
   "execution_count": 2,
   "id": "a52ab042-c107-44d6-840c-02fa1cb72d84",
   "metadata": {},
   "outputs": [
    {
     "name": "stdin",
     "output_type": "stream",
     "text": [
      " 65\n"
     ]
    },
    {
     "name": "stdout",
     "output_type": "stream",
     "text": [
      "odd\n"
     ]
    }
   ],
   "source": [
    "class check:\n",
    "    def odd_even(self):\n",
    "        _n=int(input())\n",
    "        if _n%2==0:\n",
    "            print(\"even\")\n",
    "        else:\n",
    "            print(\"odd\")\n",
    "\n",
    "ob=check()\n",
    "ob.odd_even()"
   ]
  },
  {
   "cell_type": "code",
   "execution_count": null,
   "id": "6eed53a2-86b4-4872-b838-863f998a14f0",
   "metadata": {},
   "outputs": [],
   "source": []
  }
 ],
 "metadata": {
  "kernelspec": {
   "display_name": "Python 3 (ipykernel)",
   "language": "python",
   "name": "python3"
  },
  "language_info": {
   "codemirror_mode": {
    "name": "ipython",
    "version": 3
   },
   "file_extension": ".py",
   "mimetype": "text/x-python",
   "name": "python",
   "nbconvert_exporter": "python",
   "pygments_lexer": "ipython3",
   "version": "3.12.4"
  }
 },
 "nbformat": 4,
 "nbformat_minor": 5
}
