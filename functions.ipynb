{
 "cells": [
  {
   "cell_type": "code",
   "execution_count": 5,
   "id": "5c8f72d6-cecb-468a-ac75-c6a157501410",
   "metadata": {},
   "outputs": [
    {
     "name": "stdin",
     "output_type": "stream",
     "text": [
      " 1\n",
      " 2\n",
      " 1\n"
     ]
    },
    {
     "data": {
      "text/plain": [
       "(4.0, 2.0)"
      ]
     },
     "execution_count": 5,
     "metadata": {},
     "output_type": "execute_result"
    }
   ],
   "source": [
    "x=int(input())\n",
    "y=float(input())\n",
    "z=int(input())\n",
    "\n",
    "def test(x,y,z):\n",
    "    add=x+y+z\n",
    "    pro=x*y*z\n",
    "    return add, pro\n",
    "    #return pro\n",
    "\n",
    "test(x,y,z)"
   ]
  },
  {
   "cell_type": "code",
   "execution_count": 7,
   "id": "b4569eb0-0f2b-4d8e-a67f-c5c5c7797a57",
   "metadata": {},
   "outputs": [
    {
     "name": "stdin",
     "output_type": "stream",
     "text": [
      " 2\n",
      " 23\n",
      " 2\n"
     ]
    },
    {
     "data": {
      "text/plain": [
       "(27.0, 92.0)"
      ]
     },
     "execution_count": 7,
     "metadata": {},
     "output_type": "execute_result"
    }
   ],
   "source": [
    "x=int(input())\n",
    "y=float(input())\n",
    "z=int(input())\n",
    "\n",
    "def test(x,y,z):\n",
    "    return x+y+z, x*y*z\n",
    "test(x,y,z)"
   ]
  },
  {
   "cell_type": "code",
   "execution_count": 9,
   "id": "bed3059f-3d36-4b71-a580-41e6c37d688d",
   "metadata": {},
   "outputs": [
    {
     "name": "stdin",
     "output_type": "stream",
     "text": [
      " 2\n",
      " 7\n",
      " 1\n"
     ]
    },
    {
     "data": {
      "text/plain": [
       "'7'"
      ]
     },
     "execution_count": 9,
     "metadata": {},
     "output_type": "execute_result"
    }
   ],
   "source": [
    "x=input()\n",
    "y=input()\n",
    "z=input()\n",
    "def ma(x,y,z):\n",
    "    if x>y>z:\n",
    "        return x\n",
    "    elif y>x>z:\n",
    "        return y\n",
    "    else:\n",
    "        return z\n",
    "ma(x,y,z)        "
   ]
  },
  {
   "cell_type": "code",
   "execution_count": null,
   "id": "51536cb3-637a-4c69-a78c-6122b253c9b4",
   "metadata": {},
   "outputs": [],
   "source": []
  }
 ],
 "metadata": {
  "kernelspec": {
   "display_name": "Python 3 (ipykernel)",
   "language": "python",
   "name": "python3"
  },
  "language_info": {
   "codemirror_mode": {
    "name": "ipython",
    "version": 3
   },
   "file_extension": ".py",
   "mimetype": "text/x-python",
   "name": "python",
   "nbconvert_exporter": "python",
   "pygments_lexer": "ipython3",
   "version": "3.12.4"
  }
 },
 "nbformat": 4,
 "nbformat_minor": 5
}
