{
 "cells": [
  {
   "cell_type": "code",
   "execution_count": null,
   "id": "40ee75dc-8e92-4d29-95af-d651088f12bf",
   "metadata": {},
   "outputs": [],
   "source": [
    "class animal:\n",
    "    def sound(self):\n",
    "        print(\"some generic sound\")\n",
    "\n",
    "class dog(animal):\n",
    "    def sound(self):\n",
    "        print(\"bark\")\n",
    "\n",
    "class cat(animal):\n",
    "    def  sound(self):\n",
    "        print(\"meow\")\n",
    "\n",
    "dog=dog()\n",
    "cat=cat()\n",
    "dog.sound()\n",
    "cat.sound()"
   ]
  }
 ],
 "metadata": {
  "kernelspec": {
   "display_name": "Python 3 (ipykernel)",
   "language": "python",
   "name": "python3"
  },
  "language_info": {
   "codemirror_mode": {
    "name": "ipython",
    "version": 3
   },
   "file_extension": ".py",
   "mimetype": "text/x-python",
   "name": "python",
   "nbconvert_exporter": "python",
   "pygments_lexer": "ipython3",
   "version": "3.12.4"
  }
 },
 "nbformat": 4,
 "nbformat_minor": 5
}
