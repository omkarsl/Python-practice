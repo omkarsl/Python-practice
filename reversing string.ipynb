{
 "cells": [
  {
   "cell_type": "code",
   "execution_count": 1,
   "id": "5f85993f-1866-459c-b5fe-3e3511c54f58",
   "metadata": {},
   "outputs": [
    {
     "name": "stdin",
     "output_type": "stream",
     "text": [
      " omkar\n"
     ]
    },
    {
     "name": "stdout",
     "output_type": "stream",
     "text": [
      "o\n",
      "om\n",
      "omk\n",
      "omka\n",
      "omkar\n",
      "reverse text omkar\n",
      "yes, the given string is palendrome\n"
     ]
    }
   ],
   "source": [
    "text=str(input())\n",
    "rev_text=\"\"\n",
    "\n",
    "for j in text:\n",
    "    rev_text+=j\n",
    "    print(rev_text)\n",
    "print(\"reverse text\",rev_text)\n",
    "\n",
    "if text==rev_text:\n",
    "    print(\"yes, the given string is palendrome\")\n",
    "else:\n",
    "    print(\"no, the gigen string is not palendrome\")"
   ]
  },
  {
   "cell_type": "code",
   "execution_count": null,
   "id": "41bb9e14-9067-4b63-b50c-6b196e973ecc",
   "metadata": {},
   "outputs": [],
   "source": []
  }
 ],
 "metadata": {
  "kernelspec": {
   "display_name": "Python 3 (ipykernel)",
   "language": "python",
   "name": "python3"
  },
  "language_info": {
   "codemirror_mode": {
    "name": "ipython",
    "version": 3
   },
   "file_extension": ".py",
   "mimetype": "text/x-python",
   "name": "python",
   "nbconvert_exporter": "python",
   "pygments_lexer": "ipython3",
   "version": "3.12.4"
  }
 },
 "nbformat": 4,
 "nbformat_minor": 5
}
